{
 "cells": [
  {
   "cell_type": "code",
   "execution_count": 11,
   "metadata": {},
   "outputs": [],
   "source": [
    "import pandas as pd\n",
    "import pickle \n",
    "from sklearn.cluster import KMeans\n",
    "from sklearn.metrics import accuracy_score"
   ]
  },
  {
   "cell_type": "code",
   "execution_count": 2,
   "metadata": {},
   "outputs": [],
   "source": [
    "# load in X_train, X_test, Y_train, Y_test\n",
    "\n",
    "with open(\"./data/x_test.pkl\", 'rb') as f:\n",
    "    x_test = pickle.load(f)\n",
    "with open(\"./data/x_train.pkl\", 'rb') as f:\n",
    "    x_train = pickle.load(f)\n",
    "with open(\"./data/y_test.pkl\", 'rb') as f:\n",
    "    y_test = pickle.load(f)\n",
    "with open(\"./data/y_train.pkl\", 'rb') as f:\n",
    "    y_train = pickle.load(f)"
   ]
  },
  {
   "cell_type": "code",
   "execution_count": 12,
   "metadata": {},
   "outputs": [
    {
     "name": "stderr",
     "output_type": "stream",
     "text": [
      "/Users/dmcdonald/projects/MIDS/207/Stellar-Classification/.venv/lib/python3.10/site-packages/sklearn/cluster/_kmeans.py:870: FutureWarning: The default value of `n_init` will change from 10 to 'auto' in 1.4. Set the value of `n_init` explicitly to suppress the warning\n",
      "  warnings.warn(\n"
     ]
    },
    {
     "data": {
      "text/plain": [
       "0.3499"
      ]
     },
     "execution_count": 12,
     "metadata": {},
     "output_type": "execute_result"
    }
   ],
   "source": [
    "n_clusters = 3\n",
    "random_state = 69\n",
    "\n",
    "model = KMeans(n_clusters=n_clusters, random_state=random_state)\n",
    "model.fit(x_train[:,:5])\n",
    "\n",
    "y_test_clustered = model.predict(x_test[:,:5])\n",
    "accuracy_score(y_test, y_test_clustered)\n",
    "\n"
   ]
  },
  {
   "cell_type": "code",
   "execution_count": 9,
   "metadata": {},
   "outputs": [
    {
     "data": {
      "text/plain": [
       "6998"
      ]
     },
     "execution_count": 9,
     "metadata": {},
     "output_type": "execute_result"
    }
   ],
   "source": [
    "(y_test == y_test_clustered).sum()\n"
   ]
  },
  {
   "cell_type": "code",
   "execution_count": 10,
   "metadata": {},
   "outputs": [
    {
     "name": "stdout",
     "output_type": "stream",
     "text": [
      "y_train = 0\ty_train_clustered = 2\n",
      "y_train = 0\ty_train_clustered = 1\n",
      "y_train = 0\ty_train_clustered = 1\n",
      "y_train = 0\ty_train_clustered = 0\n",
      "y_train = 2\ty_train_clustered = 1\n",
      "y_train = 2\ty_train_clustered = 1\n",
      "y_train = 1\ty_train_clustered = 1\n",
      "y_train = 0\ty_train_clustered = 1\n",
      "y_train = 1\ty_train_clustered = 1\n",
      "y_train = 0\ty_train_clustered = 2\n"
     ]
    }
   ],
   "source": [
    "# need to map the kmeans clusters to the corresponding classification\n",
    "y_train_clustered = model.predict(x_train[:,:5])\n",
    "\n",
    "for i in range(10):\n",
    "    print(f\"y_train = {y_train[i]}\\ty_train_clustered = {y_train_clustered[i]}\")\n"
   ]
  },
  {
   "cell_type": "code",
   "execution_count": null,
   "metadata": {},
   "outputs": [],
   "source": [
    "centroids = model.cluster_centers_\n",
    "centroids\n"
   ]
  },
  {
   "cell_type": "code",
   "execution_count": null,
   "metadata": {},
   "outputs": [],
   "source": [
    "x_train.shape\n"
   ]
  },
  {
   "cell_type": "code",
   "execution_count": null,
   "metadata": {},
   "outputs": [],
   "source": [
    "# check that the 5th column is redshift\n",
    "import plotly.express as px\n",
    "px.histogram(x_train[:,5])\n",
    "\n",
    "# it is, we dont want to use that for clustering...\n"
   ]
  }
 ],
 "metadata": {
  "kernelspec": {
   "display_name": ".venv",
   "language": "python",
   "name": "python3"
  },
  "language_info": {
   "codemirror_mode": {
    "name": "ipython",
    "version": 3
   },
   "file_extension": ".py",
   "mimetype": "text/x-python",
   "name": "python",
   "nbconvert_exporter": "python",
   "pygments_lexer": "ipython3",
   "version": "3.10.5"
  },
  "orig_nbformat": 4,
  "vscode": {
   "interpreter": {
    "hash": "280dbfcfbab874de1f267ceb0f1dfd746f3456370b81b461dfe0858d0d33b37f"
   }
  }
 },
 "nbformat": 4,
 "nbformat_minor": 2
}
