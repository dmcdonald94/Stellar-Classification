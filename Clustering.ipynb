{
 "cells": [
  {
   "cell_type": "code",
   "execution_count": 32,
   "metadata": {
    "tags": []
   },
   "outputs": [],
   "source": [
    "import matplotlib as mpl\n",
    "import matplotlib.pyplot as plt\n",
    "import itertools\n",
    "color_iter = itertools.cycle([\"navy\", \"c\", \"cornflowerblue\", \"gold\", \"darkorange\"])\n",
    "from scipy import linalg\n",
    "import numpy as np\n",
    "\n",
    "import pandas as pd\n",
    "import pickle \n",
    "from sklearn.cluster import KMeans\n",
    "from sklearn.mixture import GaussianMixture\n",
    "from sklearn.metrics import accuracy_score"
   ]
  },
  {
   "cell_type": "code",
   "execution_count": 3,
   "metadata": {
    "tags": []
   },
   "outputs": [
    {
     "name": "stdout",
     "output_type": "stream",
     "text": [
      "data_dir.exists() = True\n"
     ]
    }
   ],
   "source": [
    "# load in X_train, X_test, Y_train, Y_test\n",
    "from pathlib import Path\n",
    "\n",
    "data_dir = Path(\"./data/photometry\")\n",
    "print(f\"{data_dir.exists() = }\")\n",
    "\n",
    "\n",
    "with open(data_dir / \"x_test.pkl\", 'rb') as f:\n",
    "    x_test = pickle.load(f)\n",
    "with open(data_dir / \"x_train.pkl\", 'rb') as f:\n",
    "    x_train = pickle.load(f)\n",
    "with open(data_dir  / \"x_val.pkl\", 'rb') as f:\n",
    "    x_val = pickle.load(f)\n",
    "    \n",
    "with open(data_dir / \"y_test.pkl\", 'rb') as f:\n",
    "    y_test = pickle.load(f)\n",
    "with open(data_dir / \"y_train.pkl\", 'rb') as f:\n",
    "    y_train = pickle.load(f)\n",
    "with open(data_dir / \"y_val.pkl\", 'rb') as f:\n",
    "    y_val = pickle.load(f)"
   ]
  },
  {
   "cell_type": "code",
   "execution_count": 5,
   "metadata": {
    "tags": []
   },
   "outputs": [
    {
     "name": "stderr",
     "output_type": "stream",
     "text": [
      "C:\\Users\\hbar6\\projects\\MIDS\\207\\Stellar-Classification\\.venv\\lib\\site-packages\\sklearn\\cluster\\_kmeans.py:870: FutureWarning: The default value of `n_init` will change from 10 to 'auto' in 1.4. Set the value of `n_init` explicitly to suppress the warning\n",
      "  warnings.warn(\n"
     ]
    },
    {
     "data": {
      "text/plain": [
       "0.3570178508925446"
      ]
     },
     "execution_count": 5,
     "metadata": {},
     "output_type": "execute_result"
    }
   ],
   "source": [
    "n_clusters = 3\n",
    "random_state = 69\n",
    "\n",
    "km = KMeans(n_clusters=n_clusters, random_state=random_state)\n",
    "km.fit(x_train[:,:5])\n",
    "\n",
    "y_val_clustered = km.predict(x_val[:,:5])\n",
    "accuracy_score(y_val, y_val_clustered)\n",
    "\n"
   ]
  },
  {
   "cell_type": "code",
   "execution_count": 10,
   "metadata": {},
   "outputs": [
    {
     "name": "stdout",
     "output_type": "stream",
     "text": [
      "y_train = 0\ty_train_clustered = 2\n",
      "y_train = 0\ty_train_clustered = 1\n",
      "y_train = 0\ty_train_clustered = 1\n",
      "y_train = 0\ty_train_clustered = 0\n",
      "y_train = 2\ty_train_clustered = 1\n",
      "y_train = 2\ty_train_clustered = 1\n",
      "y_train = 1\ty_train_clustered = 1\n",
      "y_train = 0\ty_train_clustered = 1\n",
      "y_train = 1\ty_train_clustered = 1\n",
      "y_train = 0\ty_train_clustered = 2\n"
     ]
    }
   ],
   "source": [
    "# need to map the kmeans clusters to the corresponding classification\n",
    "y_train_clustered = model.predict(x_train[:,:5])\n",
    "\n",
    "for i in range(10):\n",
    "    print(f\"y_train = {y_train[i]}\\ty_train_clustered = {y_train_clustered[i]}\")\n"
   ]
  },
  {
   "cell_type": "code",
   "execution_count": 69,
   "metadata": {
    "tags": []
   },
   "outputs": [
    {
     "data": {
      "text/plain": [
       "0.1785089254462723"
      ]
     },
     "execution_count": 69,
     "metadata": {},
     "output_type": "execute_result"
    }
   ],
   "source": [
    "# gaussian mixture model now\n",
    "n_components = 3\n",
    "random_state = 69\n",
    "gm = GaussianMixture(n_components = n_components, random_state=random_state)\n",
    "gm.fit(x_train)\n",
    "y_val_clustered = gm.predict(x_val)\n",
    "accuracy_score(y_val, y_val_clustered)\n"
   ]
  },
  {
   "cell_type": "code",
   "execution_count": 70,
   "metadata": {
    "tags": []
   },
   "outputs": [],
   "source": [
    "def plot_results(X, Y_, means, covariances, index, title):\n",
    "    splot = plt.subplot(2, 1, 1 + index)\n",
    "    for i, (mean, covar, color) in enumerate(zip(means, covariances, color_iter)):\n",
    "        v, w = linalg.eigh(covar)\n",
    "        v = 2.0 * np.sqrt(2.0) * np.sqrt(v)\n",
    "        u = w[0] / linalg.norm(w[0])\n",
    "        # as the DP will not use every component it has access to\n",
    "        # unless it needs it, we shouldn't plot the redundant\n",
    "        # components.\n",
    "        if not np.any(Y_ == i):\n",
    "            continue\n",
    "        plt.scatter(X[Y_ == i, 0], X[Y_ == i, 1], 0.8, color=color)\n",
    "\n",
    "        # Plot an ellipse to show the Gaussian component\n",
    "        angle = np.arctan(u[1] / u[0])\n",
    "        angle = 180.0 * angle / np.pi  # convert to degrees\n",
    "        ell = mpl.patches.Ellipse(mean, v[0], v[1], angle=180.0 + angle, color=color)\n",
    "        ell.set_clip_box(splot.bbox)\n",
    "        ell.set_alpha(0.5)\n",
    "        splot.add_artist(ell)\n",
    "\n",
    "    plt.xlim(-9.0, 5.0)\n",
    "    plt.ylim(-3.0, 6.0)\n",
    "    plt.xticks(())\n",
    "    plt.yticks(())\n",
    "    plt.title(title)\n"
   ]
  },
  {
   "cell_type": "code",
   "execution_count": 71,
   "metadata": {
    "tags": []
   },
   "outputs": [
    {
     "data": {
      "image/png": "[encoded data removed]",
      "text/plain": [
       "<Figure size 640x480 with 1 Axes>"
      ]
     },
     "metadata": {},
     "output_type": "display_data"
    }
   ],
   "source": [
    "plot_results(x_val, y_val_clustered, gm.means_, gm.covariances_, 0, \"Gaussian Mixture\")"
   ]
  },
  {
   "cell_type": "code",
   "execution_count": 72,
   "metadata": {
    "tags": []
   },
   "outputs": [
    {
     "name": "stdout",
     "output_type": "stream",
     "text": [
      "0.1785089254462723\n",
      "0.09095454772738637\n",
      "0.41317065853292667\n",
      "0.09095454772738637\n",
      "0.40832041602080105\n",
      "0.09095454772738637\n"
     ]
    }
   ],
   "source": [
    "# rotate y_val to see if they match y_val_clustered\n",
    "\n",
    "y_val_map = {\n",
    "    0 : 0,\n",
    "    1 : 1,\n",
    "    2 : 2\n",
    "}\n",
    "\n",
    "y_val_mapped = np.array([y_val_map[yv] for yv in y_val])\n",
    "print(accuracy_score(y_val_mapped, y_val_clustered))\n",
    "\n",
    "y_val_map = {\n",
    "    0 : 0,\n",
    "    1 : 2,\n",
    "    2 : 1\n",
    "}\n",
    "\n",
    "y_val_mapped = np.array([y_val_map[yv] for yv in y_val])\n",
    "print(accuracy_score(y_val_mapped, y_val_clustered))\n",
    "\n",
    "\n",
    "\n",
    "\n",
    "y_val_map = {\n",
    "    0 : 1,\n",
    "    1 : 2,\n",
    "    2 : 0\n",
    "}\n",
    "\n",
    "y_val_mapped = np.array([y_val_map[yv] for yv in y_val])\n",
    "print(accuracy_score(y_val_mapped, y_val_clustered))\n",
    "\n",
    "\n",
    "y_val_map = {\n",
    "    0 : 0,\n",
    "    1 : 2,\n",
    "    2 : 1\n",
    "}\n",
    "\n",
    "y_val_mapped = np.array([y_val_map[yv] for yv in y_val])\n",
    "print(accuracy_score(y_val_mapped, y_val_clustered))\n",
    "\n",
    "\n",
    "\n",
    "\n",
    "\n",
    "\n",
    "y_val_map = {\n",
    "    0 : 2,\n",
    "    1 : 0,\n",
    "    2 : 1\n",
    "}\n",
    "\n",
    "y_val_mapped = np.array([y_val_map[yv] for yv in y_val])\n",
    "print(accuracy_score(y_val_mapped, y_val_clustered))\n",
    "\n",
    "y_val_map = {\n",
    "    0 : 0,\n",
    "    1 : 2,\n",
    "    2 : 1\n",
    "}\n",
    "\n",
    "y_val_mapped = np.array([y_val_map[yv] for yv in y_val])\n",
    "print(accuracy_score(y_val_mapped, y_val_clustered))\n",
    "\n",
    "\n"
   ]
  },
  {
   "cell_type": "code",
   "execution_count": 53,
   "metadata": {
    "tags": []
   },
   "outputs": [],
   "source": []
  },
  {
   "cell_type": "code",
   "execution_count": 55,
   "metadata": {
    "tags": []
   },
   "outputs": [
    {
     "data": {
      "text/plain": [
       "0.21456072803640183"
      ]
     },
     "execution_count": 58,
     "metadata": {},
     "output_type": "execute_result"
    }
   ],
   "source": []
  },
  {
   "cell_type": "code",
   "execution_count": 76,
   "metadata": {
    "tags": []
   },
   "outputs": [
    {
     "name": "stderr",
     "output_type": "stream",
     "text": [
      "C:\\Users\\hbar6\\AppData\\Local\\Temp\\ipykernel_50884\\153577755.py:1: RuntimeWarning: invalid value encountered in log\n",
      "  np.log(-1)\n"
     ]
    },
    {
     "data": {
      "text/plain": [
       "nan"
      ]
     },
     "execution_count": 76,
     "metadata": {},
     "output_type": "execute_result"
    }
   ],
   "source": [
    "np.log(-1)"
   ]
  },
  {
   "cell_type": "code",
   "execution_count": null,
   "metadata": {},
   "outputs": [],
   "source": []
  }
 ],
 "metadata": {
  "kernelspec": {
   "display_name": "Python 3 (ipykernel)",
   "language": "python",
   "name": "python3"
  },
  "language_info": {
   "codemirror_mode": {
    "name": "ipython",
    "version": 3
   },
   "file_extension": ".py",
   "mimetype": "text/x-python",
   "name": "python",
   "nbconvert_exporter": "python",
   "pygments_lexer": "ipython3",
   "version": "3.10.2"
  },
  "vscode": {
   "interpreter": {
    "hash": "280dbfcfbab874de1f267ceb0f1dfd746f3456370b81b461dfe0858d0d33b37f"
   }
  }
 },
 "nbformat": 4,
 "nbformat_minor": 4
}
